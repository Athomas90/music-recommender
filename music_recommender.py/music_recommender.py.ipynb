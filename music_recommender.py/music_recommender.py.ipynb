{
 "cells": [
  {
   "cell_type": "code",
   "execution_count": 4,
   "id": "467e9f99-92d2-4a85-a0d8-24bf055524ba",
   "metadata": {},
   "outputs": [],
   "source": [
    "import pandas as pd\n",
    "\n",
    "# Load the pre-processed data with clusters\n",
    "df = pd.read_csv('/Users/andreathomas/music recommender/final_df.csv')\n",
    "\n",
    "def get_recommendations(artist_name):\n",
    "    # Normalize search (case-insensitive)\n",
    "    artist_songs = df[df['Artist'].str.lower() == artist_name.lower()]\n",
    "\n",
    "    if artist_songs.empty:\n",
    "        return [f\"Artist '{artist_name}' not found.\"]\n",
    "\n",
    "    # Find the most representative cluster\n",
    "    cluster = artist_songs['Cluster'].mode()[0]\n",
    "\n",
    "    # Recommend songs from same cluster but different artist\n",
    "    filtered_df = df[\n",
    "        (df['Cluster'] == cluster) &\n",
    "        (df['Artist'].str.lower() != artist_name.lower())\n",
    "    ]\n",
    "\n",
    "    if filtered_df.empty:\n",
    "        return [f\"No recommendations found for artist '{artist_name}' in this cluster.\"]\n",
    "\n",
    "    recs = filtered_df.sample(n=min(5, len(filtered_df)))\n",
    "    return [f\"{row['Track']} by {row['Artist']}\" for _, row in recs.iterrows()]\n"
   ]
  },
  {
   "cell_type": "code",
   "execution_count": null,
   "id": "1a682a26-ed0e-4fa6-8542-9b95f7806a7e",
   "metadata": {},
   "outputs": [],
   "source": []
  }
 ],
 "metadata": {
  "kernelspec": {
   "display_name": "Python [conda env:base] *",
   "language": "python",
   "name": "conda-base-py"
  },
  "language_info": {
   "codemirror_mode": {
    "name": "ipython",
    "version": 3
   },
   "file_extension": ".py",
   "mimetype": "text/x-python",
   "name": "python",
   "nbconvert_exporter": "python",
   "pygments_lexer": "ipython3",
   "version": "3.12.7"
  }
 },
 "nbformat": 4,
 "nbformat_minor": 5
}
